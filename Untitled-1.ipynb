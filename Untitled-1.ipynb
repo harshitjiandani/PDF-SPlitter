{
 "cells": [
  {
   "cell_type": "code",
   "execution_count": 9,
   "metadata": {},
   "outputs": [],
   "source": [
    "import pandas as pd\n",
    "from PyPDF2 import PdfFileWriter, PdfFileReader\n",
    "\n",
    "inputpdf = PdfFileReader(open(\"Certificates Nada Signed.pdf\", \"rb\"))\n",
    "\n",
    "df = pd.read_csv('Atleast 2.csv')\n",
    "for i in range(len(df[\"Names\"])):\n",
    "    output = PdfFileWriter()\n",
    "    output.addPage(inputpdf.getPage(i))\n",
    "    with open( str(df[\"Names\"][i]) +  \".pdf\" , \"wb\") as outputStream:\n",
    "        output.write(outputStream)"
   ]
  }
 ],
 "metadata": {
  "interpreter": {
   "hash": "7eca3e48df6a7a9c13ff26706bc57f520f0de0097d8a5501b2943d1892c6e9c9"
  },
  "kernelspec": {
   "display_name": "Python 3.8.12 ('deep_learning')",
   "language": "python",
   "name": "python3"
  },
  "language_info": {
   "codemirror_mode": {
    "name": "ipython",
    "version": 3
   },
   "file_extension": ".py",
   "mimetype": "text/x-python",
   "name": "python",
   "nbconvert_exporter": "python",
   "pygments_lexer": "ipython3",
   "version": "3.8.12"
  },
  "orig_nbformat": 4
 },
 "nbformat": 4,
 "nbformat_minor": 2
}
